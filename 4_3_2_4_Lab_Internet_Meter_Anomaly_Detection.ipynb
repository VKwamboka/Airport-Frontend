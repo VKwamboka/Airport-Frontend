{
  "cells": [
    {
      "cell_type": "markdown",
      "metadata": {
        "id": "view-in-github",
        "colab_type": "text"
      },
      "source": [
        "<a href=\"https://colab.research.google.com/github/VKwamboka/Airport-Frontend/blob/master/4_3_2_4_Lab_Internet_Meter_Anomaly_Detection.ipynb\" target=\"_parent\"><img src=\"https://colab.research.google.com/assets/colab-badge.svg\" alt=\"Open In Colab\"/></a>"
      ]
    },
    {
      "cell_type": "markdown",
      "metadata": {
        "id": "bx2aft9QdymK"
      },
      "source": [
        "![Title](Images/cisco.png)"
      ]
    },
    {
      "cell_type": "markdown",
      "metadata": {
        "id": "NHO0UH3zdymO"
      },
      "source": [
        "# Lab - Internet Meter Anomaly Detection"
      ]
    },
    {
      "cell_type": "markdown",
      "metadata": {
        "id": "piZzT7tNdymP"
      },
      "source": [
        "### Objectives\n",
        "<li>**Part 1: Feature Engineering**</li>\n",
        "<li>**Part 2: Euclidean Anomaly Detection**</li>\n",
        "### Scenario/Background\n",
        "Anomaly-detection algorithms locate those datapoints that stand out from a pattern. For example, algorithms of this kind can be used to test the safety of airplane engines by recording quantities such as fuel consumption, temperature, and so on. Whenever the measurements display extreme values, such as unusually high temperature, anomaly detection alerts the operator, who can then take action to resolve potential issues. Constant improvement of safety standards is not unique to the transport sector, and these algorithms find applications in all branches of industry, from food manufacturing to the production of toys for children.\n",
        "### Required Resources\n",
        "* 1 PC with Internet access\n",
        "* Raspberry Pi version 2 or higher\n",
        "* Python libraries: numpy, pandas, matplotlib\n",
        "* Datafiles: rpi_data_processed.csv\n"
      ]
    },
    {
      "cell_type": "markdown",
      "metadata": {
        "id": "KqPg5vBndymP"
      },
      "source": [
        "## Part 1 : Feature Engineering"
      ]
    },
    {
      "cell_type": "markdown",
      "metadata": {
        "id": "2td8qAjTdymQ"
      },
      "source": [
        "#### Step 1: Import Python Libraries.\n",
        "In this step, you will import Python libraries."
      ]
    },
    {
      "cell_type": "code",
      "execution_count": 1,
      "metadata": {
        "collapsed": true,
        "id": "DyGkj46UdymR"
      },
      "outputs": [],
      "source": [
        "# Code Cell 1\n",
        "import numpy as np\n",
        "import pandas as pd"
      ]
    },
    {
      "cell_type": "markdown",
      "metadata": {
        "id": "JORF5YeZdymS"
      },
      "source": [
        "#### Step 2: Create a Dataframe and modify the quantities.\n",
        "The quantities that are recorded when gathering data, also known as features, may require some transformation before analysis. For example, the quantity called 'ping' obtained when measuring internet speed. This feature describes intervals of time. A contrast is then observed, as the other quantities being monitored, namely the rates of download and upload, have dimensions of **inverse** time. Because of this, 'ping' is not the optimal choice for statistical analysis. Better results are achieved using a related feature, which we will call 'ping rate'. This is calculated by applying the simple transformation $$\\mathrm{ping\\ rate} = \\frac{1}{\\mathrm{ping\\ time}}.$$\n",
        "This process of 'modifying' quantities in view of analysis is termed 'feature engineering', and is generally an important part of the machine-learning workflow.\n",
        "\n",
        "Load the internet-speed data from the file `rpi_data_processed.csv` into a Pandas dataframe named `df`. Using this as a starting point,  generate another dataframe, `df_rates`, whose three columns are `download_rate`, `upload_rate` and `ping_rate` respectively. When computing this last feature, make sure that the result is given in units of `1/seconds`."
      ]
    },
    {
      "cell_type": "code",
      "execution_count": 2,
      "metadata": {
        "collapsed": true,
        "id": "55UMTem3dymT"
      },
      "outputs": [],
      "source": [
        "#Code Cell 2\n",
        "# Load internet speed data\n",
        "df = pd.read_csv('/content/rpi_data_processed.csv')\n",
        "\n",
        "# Initialize dataframe df_rates\n",
        "df_rates = df.drop(['Ping (ms)', 'Date', 'Time'], axis=1)\n",
        "\n",
        "# Rename the download and\n",
        "# upload columns of df_rates\n",
        "lookup = {'Download (Mbit/s)': 'download_rate',\n",
        "          'Upload (Mbit/s)': 'upload_rate'}\n",
        "df_rates = df_rates.rename(columns = lookup)\n",
        "\n",
        "# Calculate ping_rate\n",
        "ping_rate = 1. / df['Ping (ms)']\n",
        "\n",
        "# Convert ping_rate to 1/seconds\n",
        "ping_rate = 1000. * ping_rate\n",
        "\n",
        "# Add a column to complete the task\n",
        "df_rates['ping_rate'] = ping_rate"
      ]
    },
    {
      "cell_type": "code",
      "execution_count": 3,
      "metadata": {
        "collapsed": true,
        "colab": {
          "base_uri": "https://localhost:8080/",
          "height": 300
        },
        "id": "45BLV96LdymT",
        "outputId": "76ed64de-8365-4743-843a-78cd5b8372b2"
      },
      "outputs": [
        {
          "output_type": "execute_result",
          "data": {
            "text/plain": [
              "       upload_rate  download_rate   ping_rate\n",
              "count   673.000000     673.000000  673.000000\n",
              "mean     13.697608      90.449212   48.657348\n",
              "std       1.080471       3.465647    6.030512\n",
              "min       6.210000      58.480000   13.067113\n",
              "25%      13.640000      90.220000   45.781257\n",
              "50%      13.980000      91.560000   49.207755\n",
              "75%      14.180000      92.070000   52.314936\n",
              "max      14.550000      92.870000   61.854395"
            ],
            "text/html": [
              "\n",
              "  <div id=\"df-32b6825c-ba1b-4cbb-a330-903980c6de6c\" class=\"colab-df-container\">\n",
              "    <div>\n",
              "<style scoped>\n",
              "    .dataframe tbody tr th:only-of-type {\n",
              "        vertical-align: middle;\n",
              "    }\n",
              "\n",
              "    .dataframe tbody tr th {\n",
              "        vertical-align: top;\n",
              "    }\n",
              "\n",
              "    .dataframe thead th {\n",
              "        text-align: right;\n",
              "    }\n",
              "</style>\n",
              "<table border=\"1\" class=\"dataframe\">\n",
              "  <thead>\n",
              "    <tr style=\"text-align: right;\">\n",
              "      <th></th>\n",
              "      <th>upload_rate</th>\n",
              "      <th>download_rate</th>\n",
              "      <th>ping_rate</th>\n",
              "    </tr>\n",
              "  </thead>\n",
              "  <tbody>\n",
              "    <tr>\n",
              "      <th>count</th>\n",
              "      <td>673.000000</td>\n",
              "      <td>673.000000</td>\n",
              "      <td>673.000000</td>\n",
              "    </tr>\n",
              "    <tr>\n",
              "      <th>mean</th>\n",
              "      <td>13.697608</td>\n",
              "      <td>90.449212</td>\n",
              "      <td>48.657348</td>\n",
              "    </tr>\n",
              "    <tr>\n",
              "      <th>std</th>\n",
              "      <td>1.080471</td>\n",
              "      <td>3.465647</td>\n",
              "      <td>6.030512</td>\n",
              "    </tr>\n",
              "    <tr>\n",
              "      <th>min</th>\n",
              "      <td>6.210000</td>\n",
              "      <td>58.480000</td>\n",
              "      <td>13.067113</td>\n",
              "    </tr>\n",
              "    <tr>\n",
              "      <th>25%</th>\n",
              "      <td>13.640000</td>\n",
              "      <td>90.220000</td>\n",
              "      <td>45.781257</td>\n",
              "    </tr>\n",
              "    <tr>\n",
              "      <th>50%</th>\n",
              "      <td>13.980000</td>\n",
              "      <td>91.560000</td>\n",
              "      <td>49.207755</td>\n",
              "    </tr>\n",
              "    <tr>\n",
              "      <th>75%</th>\n",
              "      <td>14.180000</td>\n",
              "      <td>92.070000</td>\n",
              "      <td>52.314936</td>\n",
              "    </tr>\n",
              "    <tr>\n",
              "      <th>max</th>\n",
              "      <td>14.550000</td>\n",
              "      <td>92.870000</td>\n",
              "      <td>61.854395</td>\n",
              "    </tr>\n",
              "  </tbody>\n",
              "</table>\n",
              "</div>\n",
              "    <div class=\"colab-df-buttons\">\n",
              "\n",
              "  <div class=\"colab-df-container\">\n",
              "    <button class=\"colab-df-convert\" onclick=\"convertToInteractive('df-32b6825c-ba1b-4cbb-a330-903980c6de6c')\"\n",
              "            title=\"Convert this dataframe to an interactive table.\"\n",
              "            style=\"display:none;\">\n",
              "\n",
              "  <svg xmlns=\"http://www.w3.org/2000/svg\" height=\"24px\" viewBox=\"0 -960 960 960\">\n",
              "    <path d=\"M120-120v-720h720v720H120Zm60-500h600v-160H180v160Zm220 220h160v-160H400v160Zm0 220h160v-160H400v160ZM180-400h160v-160H180v160Zm440 0h160v-160H620v160ZM180-180h160v-160H180v160Zm440 0h160v-160H620v160Z\"/>\n",
              "  </svg>\n",
              "    </button>\n",
              "\n",
              "  <style>\n",
              "    .colab-df-container {\n",
              "      display:flex;\n",
              "      gap: 12px;\n",
              "    }\n",
              "\n",
              "    .colab-df-convert {\n",
              "      background-color: #E8F0FE;\n",
              "      border: none;\n",
              "      border-radius: 50%;\n",
              "      cursor: pointer;\n",
              "      display: none;\n",
              "      fill: #1967D2;\n",
              "      height: 32px;\n",
              "      padding: 0 0 0 0;\n",
              "      width: 32px;\n",
              "    }\n",
              "\n",
              "    .colab-df-convert:hover {\n",
              "      background-color: #E2EBFA;\n",
              "      box-shadow: 0px 1px 2px rgba(60, 64, 67, 0.3), 0px 1px 3px 1px rgba(60, 64, 67, 0.15);\n",
              "      fill: #174EA6;\n",
              "    }\n",
              "\n",
              "    .colab-df-buttons div {\n",
              "      margin-bottom: 4px;\n",
              "    }\n",
              "\n",
              "    [theme=dark] .colab-df-convert {\n",
              "      background-color: #3B4455;\n",
              "      fill: #D2E3FC;\n",
              "    }\n",
              "\n",
              "    [theme=dark] .colab-df-convert:hover {\n",
              "      background-color: #434B5C;\n",
              "      box-shadow: 0px 1px 3px 1px rgba(0, 0, 0, 0.15);\n",
              "      filter: drop-shadow(0px 1px 2px rgba(0, 0, 0, 0.3));\n",
              "      fill: #FFFFFF;\n",
              "    }\n",
              "  </style>\n",
              "\n",
              "    <script>\n",
              "      const buttonEl =\n",
              "        document.querySelector('#df-32b6825c-ba1b-4cbb-a330-903980c6de6c button.colab-df-convert');\n",
              "      buttonEl.style.display =\n",
              "        google.colab.kernel.accessAllowed ? 'block' : 'none';\n",
              "\n",
              "      async function convertToInteractive(key) {\n",
              "        const element = document.querySelector('#df-32b6825c-ba1b-4cbb-a330-903980c6de6c');\n",
              "        const dataTable =\n",
              "          await google.colab.kernel.invokeFunction('convertToInteractive',\n",
              "                                                    [key], {});\n",
              "        if (!dataTable) return;\n",
              "\n",
              "        const docLinkHtml = 'Like what you see? Visit the ' +\n",
              "          '<a target=\"_blank\" href=https://colab.research.google.com/notebooks/data_table.ipynb>data table notebook</a>'\n",
              "          + ' to learn more about interactive tables.';\n",
              "        element.innerHTML = '';\n",
              "        dataTable['output_type'] = 'display_data';\n",
              "        await google.colab.output.renderOutput(dataTable, element);\n",
              "        const docLink = document.createElement('div');\n",
              "        docLink.innerHTML = docLinkHtml;\n",
              "        element.appendChild(docLink);\n",
              "      }\n",
              "    </script>\n",
              "  </div>\n",
              "\n",
              "\n",
              "<div id=\"df-fda3fbc7-ccaf-4ea3-af8c-cc978548fba5\">\n",
              "  <button class=\"colab-df-quickchart\" onclick=\"quickchart('df-fda3fbc7-ccaf-4ea3-af8c-cc978548fba5')\"\n",
              "            title=\"Suggest charts\"\n",
              "            style=\"display:none;\">\n",
              "\n",
              "<svg xmlns=\"http://www.w3.org/2000/svg\" height=\"24px\"viewBox=\"0 0 24 24\"\n",
              "     width=\"24px\">\n",
              "    <g>\n",
              "        <path d=\"M19 3H5c-1.1 0-2 .9-2 2v14c0 1.1.9 2 2 2h14c1.1 0 2-.9 2-2V5c0-1.1-.9-2-2-2zM9 17H7v-7h2v7zm4 0h-2V7h2v10zm4 0h-2v-4h2v4z\"/>\n",
              "    </g>\n",
              "</svg>\n",
              "  </button>\n",
              "\n",
              "<style>\n",
              "  .colab-df-quickchart {\n",
              "      --bg-color: #E8F0FE;\n",
              "      --fill-color: #1967D2;\n",
              "      --hover-bg-color: #E2EBFA;\n",
              "      --hover-fill-color: #174EA6;\n",
              "      --disabled-fill-color: #AAA;\n",
              "      --disabled-bg-color: #DDD;\n",
              "  }\n",
              "\n",
              "  [theme=dark] .colab-df-quickchart {\n",
              "      --bg-color: #3B4455;\n",
              "      --fill-color: #D2E3FC;\n",
              "      --hover-bg-color: #434B5C;\n",
              "      --hover-fill-color: #FFFFFF;\n",
              "      --disabled-bg-color: #3B4455;\n",
              "      --disabled-fill-color: #666;\n",
              "  }\n",
              "\n",
              "  .colab-df-quickchart {\n",
              "    background-color: var(--bg-color);\n",
              "    border: none;\n",
              "    border-radius: 50%;\n",
              "    cursor: pointer;\n",
              "    display: none;\n",
              "    fill: var(--fill-color);\n",
              "    height: 32px;\n",
              "    padding: 0;\n",
              "    width: 32px;\n",
              "  }\n",
              "\n",
              "  .colab-df-quickchart:hover {\n",
              "    background-color: var(--hover-bg-color);\n",
              "    box-shadow: 0 1px 2px rgba(60, 64, 67, 0.3), 0 1px 3px 1px rgba(60, 64, 67, 0.15);\n",
              "    fill: var(--button-hover-fill-color);\n",
              "  }\n",
              "\n",
              "  .colab-df-quickchart-complete:disabled,\n",
              "  .colab-df-quickchart-complete:disabled:hover {\n",
              "    background-color: var(--disabled-bg-color);\n",
              "    fill: var(--disabled-fill-color);\n",
              "    box-shadow: none;\n",
              "  }\n",
              "\n",
              "  .colab-df-spinner {\n",
              "    border: 2px solid var(--fill-color);\n",
              "    border-color: transparent;\n",
              "    border-bottom-color: var(--fill-color);\n",
              "    animation:\n",
              "      spin 1s steps(1) infinite;\n",
              "  }\n",
              "\n",
              "  @keyframes spin {\n",
              "    0% {\n",
              "      border-color: transparent;\n",
              "      border-bottom-color: var(--fill-color);\n",
              "      border-left-color: var(--fill-color);\n",
              "    }\n",
              "    20% {\n",
              "      border-color: transparent;\n",
              "      border-left-color: var(--fill-color);\n",
              "      border-top-color: var(--fill-color);\n",
              "    }\n",
              "    30% {\n",
              "      border-color: transparent;\n",
              "      border-left-color: var(--fill-color);\n",
              "      border-top-color: var(--fill-color);\n",
              "      border-right-color: var(--fill-color);\n",
              "    }\n",
              "    40% {\n",
              "      border-color: transparent;\n",
              "      border-right-color: var(--fill-color);\n",
              "      border-top-color: var(--fill-color);\n",
              "    }\n",
              "    60% {\n",
              "      border-color: transparent;\n",
              "      border-right-color: var(--fill-color);\n",
              "    }\n",
              "    80% {\n",
              "      border-color: transparent;\n",
              "      border-right-color: var(--fill-color);\n",
              "      border-bottom-color: var(--fill-color);\n",
              "    }\n",
              "    90% {\n",
              "      border-color: transparent;\n",
              "      border-bottom-color: var(--fill-color);\n",
              "    }\n",
              "  }\n",
              "</style>\n",
              "\n",
              "  <script>\n",
              "    async function quickchart(key) {\n",
              "      const quickchartButtonEl =\n",
              "        document.querySelector('#' + key + ' button');\n",
              "      quickchartButtonEl.disabled = true;  // To prevent multiple clicks.\n",
              "      quickchartButtonEl.classList.add('colab-df-spinner');\n",
              "      try {\n",
              "        const charts = await google.colab.kernel.invokeFunction(\n",
              "            'suggestCharts', [key], {});\n",
              "      } catch (error) {\n",
              "        console.error('Error during call to suggestCharts:', error);\n",
              "      }\n",
              "      quickchartButtonEl.classList.remove('colab-df-spinner');\n",
              "      quickchartButtonEl.classList.add('colab-df-quickchart-complete');\n",
              "    }\n",
              "    (() => {\n",
              "      let quickchartButtonEl =\n",
              "        document.querySelector('#df-fda3fbc7-ccaf-4ea3-af8c-cc978548fba5 button');\n",
              "      quickchartButtonEl.style.display =\n",
              "        google.colab.kernel.accessAllowed ? 'block' : 'none';\n",
              "    })();\n",
              "  </script>\n",
              "</div>\n",
              "    </div>\n",
              "  </div>\n"
            ]
          },
          "metadata": {},
          "execution_count": 3
        }
      ],
      "source": [
        "#Code Cell 3\n",
        "# Inspect the result\n",
        "df_rates.describe()"
      ]
    },
    {
      "cell_type": "markdown",
      "metadata": {
        "id": "45Pe5Z5fdymU"
      },
      "source": [
        "#### Step 3:  Visualize the Data.\n",
        "\n",
        "It is reasonable to expect that the measured values of `download_rate`, `upload_rate` and `ping_rate` are concentrated around their averages. Observe the visualization below to see this. Use the sliders to change the angle and azimuth of the plot.\n",
        "\n",
        "**Optional** <br>\n",
        "Because internet-speed data only involve three different quantities, they are particularly simple to visualize. Machine-learning systems often exploit tens or even hundreds of features, which makes it difficult to create insightful plots. While drawing eloquent figures is not possible in many situations, interactive visualizations remain a great way of presenting data in front of an audience. You may then want to read and understand the code below, with the help of two comments:\n",
        "\n",
        "* The class `Axes3D` from `mpl_toolkits.mplot3d` allows you to generate 3-dimensional plots, extending the functionalities of the familiar `matplotlib.pyplot` module.\n",
        "* The method `interact`, which plays crucial role in animating the visualization, is obtained from `ipywidgets`. This module, in turn, is part of the `Ipython` environment for running Python interactively.  "
      ]
    },
    {
      "cell_type": "code",
      "execution_count": 4,
      "metadata": {
        "collapsed": true,
        "id": "XCZXF4sKdymV"
      },
      "outputs": [],
      "source": [
        "# Code Cell 4\n",
        "%matplotlib inline\n",
        "import matplotlib.pyplot as plt\n",
        "from mpl_toolkits.mplot3d import Axes3D\n",
        "from ipywidgets import interact"
      ]
    },
    {
      "cell_type": "code",
      "execution_count": 5,
      "metadata": {
        "collapsed": true,
        "id": "Jxy8I2YRdymV"
      },
      "outputs": [],
      "source": [
        "# Code Cell 5\n",
        "def scatter_view(x, y, z, azim, elev):\n",
        "    # Init figure and axes\n",
        "    fig = plt.figure(figsize=(8, 8))\n",
        "    ax = Axes3D(fig)\n",
        "\n",
        "    # Compute scatter plot\n",
        "    ax.scatter(x, y, z)\n",
        "    ax.set_xlabel('D rate (Mbit/s)', fontsize=16)\n",
        "    ax.set_ylabel('U rate (Mbit/s)', fontsize=16)\n",
        "    ax.set_zlabel('P rate (1/s)', fontsize=16)\n",
        "\n",
        "    # Specify azimuth\n",
        "    # and elevation\n",
        "    ax.azim = azim\n",
        "    ax.elev = elev"
      ]
    },
    {
      "cell_type": "code",
      "execution_count": 6,
      "metadata": {
        "collapsed": true,
        "colab": {
          "base_uri": "https://localhost:8080/",
          "height": 98,
          "referenced_widgets": [
            "85c3f901052f4a438f013e1fafd0ae20",
            "e7fdf3bd8337422ea8fbd3eb47980b82",
            "366086d0c94f49d391bbe0afb8351bac",
            "421ec10c99624958aafa197312917758",
            "bb8158e791f344bf9d26128fa7b34d25",
            "1aab86f0898e4fb9b9c28966748a406d",
            "eabff1bebe294c98b89553e27280ce36",
            "0513e3e9fa154af39e0bbba1e86305dc",
            "f0ec1a70dc5b4d2a875ef956ae6b27dc",
            "67622fae0ed540229ea8019ae449d3a8"
          ]
        },
        "id": "sr1ti07XdymV",
        "outputId": "f5ca05e6-b746-4c3a-8af7-02a4488331dc"
      },
      "outputs": [
        {
          "output_type": "display_data",
          "data": {
            "text/plain": [
              "interactive(children=(IntSlider(value=45, description='azim', max=90), IntSlider(value=45, description='elev',…"
            ],
            "application/vnd.jupyter.widget-view+json": {
              "version_major": 2,
              "version_minor": 0,
              "model_id": "85c3f901052f4a438f013e1fafd0ae20"
            }
          },
          "metadata": {}
        },
        {
          "output_type": "display_data",
          "data": {
            "text/plain": [
              "<Figure size 800x800 with 0 Axes>"
            ]
          },
          "metadata": {}
        }
      ],
      "source": [
        "# Code Cell 6\n",
        "# Draw interactive plot\n",
        "xi = df_rates['download_rate']\n",
        "yi = df_rates['upload_rate']\n",
        "zi = df_rates['ping_rate']\n",
        "interact(lambda azim, elev: scatter_view(xi, yi, zi, azim, elev),\n",
        "         azim=(0, 90), elev=(0, 90))\n",
        "plt.show()"
      ]
    },
    {
      "cell_type": "markdown",
      "metadata": {
        "id": "FYPMjn0wdymW"
      },
      "source": [
        "## Part 2: Euclidean Anomaly Detection"
      ]
    },
    {
      "cell_type": "markdown",
      "metadata": {
        "id": "QCDM_6NBdymW"
      },
      "source": [
        "As illustrated in the 3-dimensional plot above, anomalies are located far away from the 'average point'. The anomaly-detection system that we will discuss exploits this idea. Points that lie beyond a certain distance from the average will be considered anomalous, whereas all other will be deemed normal.\n",
        "\n",
        "For the sake of brevity, let us represent the coordinates `[download_rate, upload_rate, ping_rate]` of a datapoint as  $\\{x, y, z\\}$. Then, the distance of a measurement from the average location $\\{\\mu_{x}, \\mu_{y}, \\mu_{z}\\}$ is given by this formula:\n",
        "\n",
        "$$d = \\sqrt{(x - \\mu_x)^2 + (y-\\mu_y)^2 + (z - \\mu_z)^2},$$\n",
        "\n",
        "This is the main ingredient of the anomaly detection system that we will build. As an aside, this ordinary concept of distance is termed **Euclidean**, to distinguish it from possible generalizations. Points such that $x$, $y$, or $z$ differ appreciably from the averages $\\mu_{x}$, $\\mu_{y}$, and $\\mu_{z}$, can be regarded as anomalies.\n",
        "\n",
        "#### Step 1: Calculate the means.\n",
        "Using a suitable Pandas function, calculate the list `mu`, whose elements are the average download, upload and ping rates."
      ]
    },
    {
      "cell_type": "code",
      "execution_count": 7,
      "metadata": {
        "collapsed": true,
        "id": "LYfpisrfdymW"
      },
      "outputs": [],
      "source": [
        "# Code Cell 7\n",
        "mu = df_rates.mean()"
      ]
    },
    {
      "cell_type": "markdown",
      "metadata": {
        "id": "6nPt1qcMdymW"
      },
      "source": [
        "#### Step 2: Calculate the Euclidean distance.\n",
        "Find the Euclidean distance between each point and the average location. You may resort to the Numpy functions `np.square` and `np.sqrt`. These compute the [element-wise](http://www.glue.umd.edu/afs/glue.umd.edu/system/info/olh/Numerical/Matlab_Matrix_Manipulation_Software/Matrix_Vector_Operations/elementwise) square power and square root of any input array. Using element-wise functions makes it possible to calculate the distances without `for`-loops that iterate over the datapoints."
      ]
    },
    {
      "cell_type": "code",
      "execution_count": 8,
      "metadata": {
        "collapsed": true,
        "id": "q7ih1nW2dymX"
      },
      "outputs": [],
      "source": [
        "# Code Cell 8\n",
        "euclid_sq = np.square(df_rates - mu).sum(axis=1)\n",
        "euclid = np.sqrt(euclid_sq)"
      ]
    },
    {
      "cell_type": "markdown",
      "metadata": {
        "id": "fR4hDdWWdymX"
      },
      "source": [
        "#### Step 3: Create a histogram.\n",
        "Create a histogram of the distance separating each datapoint from the average location. Anomalies are then easily recognized in the 'tail' of the histogram."
      ]
    },
    {
      "cell_type": "code",
      "execution_count": 9,
      "metadata": {
        "collapsed": true,
        "colab": {
          "base_uri": "https://localhost:8080/",
          "height": 642
        },
        "id": "gXQjRT8cdymX",
        "outputId": "9f0ab5ec-bf41-47b9-8918-7e91e85174d1"
      },
      "outputs": [
        {
          "output_type": "execute_result",
          "data": {
            "text/plain": [
              "Text(0, 0.5, 'Relative frequency')"
            ]
          },
          "metadata": {},
          "execution_count": 9
        },
        {
          "output_type": "display_data",
          "data": {
            "text/plain": [
              "<Figure size 700x700 with 1 Axes>"
            ],
            "image/png": "[encoded data removed]"
          },
          "metadata": {}
        }
      ],
      "source": [
        "# Code Cell 9\n",
        "# Histogram of Euclidean distance\n",
        "fig = plt.figure(figsize=(7, 7))\n",
        "# plot the histogram using 25 bins\n",
        "plt.hist(euclid, 25)\n",
        "plt.xlabel('Euclidean distance', fontsize=16)\n",
        "plt.ylabel('Relative frequency', fontsize=16)"
      ]
    },
    {
      "cell_type": "markdown",
      "metadata": {
        "id": "Hu7rdPiVdymX"
      },
      "source": [
        "#### Step 4: Compute the normalized distance.\n",
        "It is helpful to work in terms of a **normalized distance**. This is the ratio of each distance over the maximum value of $d$. The furthest anomalous points, then, have a normalized distance of 1. Compute the normalized Euclidean distance for every point in the dataset."
      ]
    },
    {
      "cell_type": "code",
      "execution_count": 10,
      "metadata": {
        "collapsed": true,
        "id": "rOWu30JOdymY"
      },
      "outputs": [],
      "source": [
        "# Code Cell 10\n",
        "# Maximum Euclidean distance\n",
        "max_euclid = euclid.max()\n",
        "# Normalized Euclidean distance\n",
        "nmd_euclid = [float(x)/max_euclid for x in euclid]"
      ]
    },
    {
      "cell_type": "markdown",
      "metadata": {
        "id": "nL1JB4zfdymY"
      },
      "source": [
        "#### Step 5: Visualize the alarm rate.\n",
        "In order to label the points as normal and anomalous, you must define a **decision boundary**. It is necessary to select the distance beyond which points are deemed atypical. While the position of the boundary can be fixed on the basis of qualitative considerations, a quantitiative approach seems preferable. You can gradually increase decision distance, and monitor how the alarm rate varies. Specifically, the alarm rate is the number of anomalies divided by the total number of datapoints. This procedure 'tries out' all possible decision boundaries, allowing us to select the most appropriate one.\n",
        "\n",
        "Vary the normalized decision distance from 0 to 1, and record the alarm rate at each step. Store the values of normalized distance and alarm rate in the lists `nmd_range` and `ecl_alarm_rate` respectively. To visualize these results,  generate a plot."
      ]
    },
    {
      "cell_type": "code",
      "execution_count": 11,
      "metadata": {
        "collapsed": true,
        "id": "P6W8l_r9dymY"
      },
      "outputs": [],
      "source": [
        "# Code Cell 11\n",
        "# Get alarm rate as a function\n",
        "# of normalized decision distance\n",
        "ecl_alarm_rate = []\n",
        "nmd_range = np.linspace(0, 1, 400)\n",
        "for nmd_decision in nmd_range:\n",
        "    # Count the number of values with a higher euclidean distance than\n",
        "    # the current decision boundary\n",
        "    # SOLUTION:\n",
        "    # num_fail = ...\n",
        "    num_fail = (nmd_euclid > nmd_decision).sum()\n",
        "    ecl_alarm_rate.append(float(num_fail) / len(euclid))"
      ]
    },
    {
      "cell_type": "code",
      "execution_count": 12,
      "metadata": {
        "collapsed": true,
        "colab": {
          "base_uri": "https://localhost:8080/",
          "height": 625
        },
        "id": "rOSBZToVdymZ",
        "outputId": "5b666eb6-dbe4-47ef-876e-6a1e151a18d0"
      },
      "outputs": [
        {
          "output_type": "display_data",
          "data": {
            "text/plain": [
              "<Figure size 700x700 with 1 Axes>"
            ],
            "image/png": "[encoded data removed]"
          },
          "metadata": {}
        }
      ],
      "source": [
        "# Code Cell 12\n",
        "# Plot number of alarms as a\n",
        "# function of decision distance\n",
        "fig = plt.figure(figsize=(7, 7))\n",
        "plt.plot(nmd_range, ecl_alarm_rate, linewidth=9)\n",
        "plt.xlabel('Normalized distance (Euclidean)', fontsize=16)\n",
        "plt.ylabel('Alarm rate', fontsize=16)\n",
        "plt.show()"
      ]
    },
    {
      "cell_type": "markdown",
      "metadata": {
        "id": "vb_ytemrdymZ"
      },
      "source": [
        "#### Step 6: Select the decision boundary.\n",
        "The plot above converts the problem of fixing a decision boundary in that of selecting the alarm rate. This is advantageous because the domain of application typically determines a sensible choice for the alarm rate. For example, when testing the safety of aeroplane engines, we may want to choose the alarm rate to be relatively high, so that both major and minor anomalies are detected, and the level of risk is kept low.\n",
        "\n",
        "Assume that, for this specific use-case, the optimal alarm rate is 0.1. Find the smallest normalized decision distance (`ecl_decision`) so that the alarm rate falls strictly below the threshold. Because the alarm rate at the selected decision boundary will not be precisely 0.1, store the exact rate in the variable `ecl_threshold`.\n"
      ]
    },
    {
      "cell_type": "code",
      "execution_count": 13,
      "metadata": {
        "collapsed": true,
        "id": "4iAigWRZdymZ"
      },
      "outputs": [],
      "source": [
        "# Code Cell 13\n",
        "# Select decision boundary\n",
        "threshold = 0.1\n",
        "index, ecl_threshold = next(tpl for tpl in enumerate(ecl_alarm_rate) if tpl[1] < threshold)\n",
        "ecl_decision = nmd_range[index]"
      ]
    },
    {
      "cell_type": "markdown",
      "metadata": {
        "id": "066nWhXGdymZ"
      },
      "source": [
        "#### Step 7: Visualize the decision boundary.\n",
        "Generate the plot from step 5 again, using a dot to mark the location of the decision boundary."
      ]
    },
    {
      "cell_type": "code",
      "execution_count": 14,
      "metadata": {
        "collapsed": true,
        "colab": {
          "base_uri": "https://localhost:8080/",
          "height": 642
        },
        "id": "Vzj0NZ2xdymZ",
        "outputId": "44ccdb29-b29e-4e71-dabc-320ffb6785a3"
      },
      "outputs": [
        {
          "output_type": "execute_result",
          "data": {
            "text/plain": [
              "Text(0, 0.5, 'Alarm rate')"
            ]
          },
          "metadata": {},
          "execution_count": 14
        },
        {
          "output_type": "display_data",
          "data": {
            "text/plain": [
              "<Figure size 700x700 with 1 Axes>"
            ],
            "image/png": "[encoded data removed]"
          },
          "metadata": {}
        }
      ],
      "source": [
        "#Code Cell 14\n",
        "# Alarm rate with decision boundary\n",
        "fig = plt.figure(figsize=(7, 7))\n",
        "# Plot the alarm rate as a function of the normalized euclidean distance\n",
        "plt.plot(nmd_range, ecl_alarm_rate, linewidth=2)\n",
        "# Plot the chosen decision threshold and the curresponding alarm rate\n",
        "plt.plot(ecl_decision, ecl_threshold, 'bo', markersize=11)\n",
        "\n",
        "plt.xlabel('Normalized distance (Euclidean)', fontsize=16)\n",
        "plt.ylabel('Alarm rate', fontsize=16)"
      ]
    },
    {
      "cell_type": "markdown",
      "metadata": {
        "id": "Gar7vOrjdyma"
      },
      "source": [
        "#### Step 8: Visualize the decision boundary in 3D.\n",
        "Because our anomaly detection algorithm makes use of Euclidean distances, its decision boundaries, when visualized in three dimensions, are spherical. Examine the plot below to see this. We would also encourage you to read and understand the associated code."
      ]
    },
    {
      "cell_type": "code",
      "execution_count": 15,
      "metadata": {
        "collapsed": true,
        "id": "VtRcORTLdyma"
      },
      "outputs": [],
      "source": [
        "#Code Cell 15\n",
        "# Decision sphere (Polar coordinates)\n",
        "radius = ecl_decision * max_euclid\n",
        "phi = np.linspace(0, 2 * np.pi, 300)\n",
        "theta = np.linspace(0, 2 * np.pi, 300)\n",
        "\n",
        "# Decision sphere (Cartesian coordinates)\n",
        "xs = radius * np.outer(np.sin(theta), np.cos(phi))\n",
        "ys = radius * np.outer(np.sin(theta), np.sin(phi))\n",
        "zs = radius * np.outer(np.cos(theta), np.ones(np.size(phi)))\n",
        "\n",
        "# Center decision sphere at mean\n",
        "ecl_xd = xs + df_rates['download_rate'].mean()\n",
        "ecl_yd = ys + df_rates['upload_rate'].mean()\n",
        "ecl_zd = zs + df_rates['ping_rate'].mean()"
      ]
    },
    {
      "cell_type": "code",
      "execution_count": 16,
      "metadata": {
        "collapsed": true,
        "colab": {
          "base_uri": "https://localhost:8080/",
          "height": 34
        },
        "id": "0fnyeuj2dyma",
        "outputId": "6fef1344-9ab5-4815-bfae-79666d98ad22"
      },
      "outputs": [
        {
          "output_type": "display_data",
          "data": {
            "text/plain": [
              "<Figure size 700x700 with 0 Axes>"
            ]
          },
          "metadata": {}
        }
      ],
      "source": [
        "#Code Cell 16\n",
        "# Init figure and axes\n",
        "fig = plt.figure(figsize=(7, 7))\n",
        "ax = Axes3D(fig)\n",
        "\n",
        "# Plot data\n",
        "ax.scatter(df_rates['download_rate'],\n",
        "           df_rates['upload_rate'],\n",
        "           df_rates['ping_rate'])\n",
        "\n",
        "# Plot decision boundary\n",
        "ax.plot_surface(ecl_xd, ecl_yd, ecl_zd,\n",
        "                linewidth=0, alpha=0.25)\n",
        "\n",
        "# Label axes\n",
        "ax.set_xlabel('D rate (Mbit/s)', fontsize=16)\n",
        "ax.set_ylabel('U rate (Mbit/s)', fontsize=16)\n",
        "ax.set_zlabel('P rate (1/s)', fontsize=16)\n",
        "\n",
        "# --------------------------------------------------\n",
        "# Set equal aspect ratio for all axes\n",
        "# --------------------------------------------------\n",
        "\n",
        "# Extreme values of x, y, z\n",
        "extremes = []\n",
        "extremes.append([df_rates['download_rate'].min(),\n",
        "                 df_rates['download_rate'].max()])\n",
        "extremes.append([df_rates['upload_rate'].min(),\n",
        "                 df_rates['upload_rate'].max()])\n",
        "extremes.append([df_rates['ping_rate'].min(),\n",
        "                 df_rates['ping_rate'].max()])\n",
        "\n",
        "# Half-widths and mid-points\n",
        "hwidths = [(row[1] - row[0]) / 2.0 for row in extremes]\n",
        "midpts = [(row[1] + row[0]) / 2.0 for row in extremes]\n",
        "\n",
        "# Set xlim, ylim, zlim\n",
        "left_ends = midpts - np.max(hwidths)\n",
        "right_ends = midpts + np.max(hwidths)\n",
        "ax.set_xlim([left_ends[0], right_ends[0]]);\n",
        "ax.set_ylim([left_ends[1], right_ends[1]]);\n",
        "ax.set_ylim([left_ends[2], right_ends[2]]);"
      ]
    },
    {
      "cell_type": "markdown",
      "metadata": {
        "id": "mGe-c40Adyma"
      },
      "source": [
        "<font size='0.5'>&copy; 2017 Cisco and/or its affiliates. All rights reserved. This document is Cisco Public.<font>"
      ]
    }
  ],
  "metadata": {
    "kernelspec": {
      "display_name": "Python 3",
      "language": "python",
      "name": "python3"
    },
    "language_info": {
      "codemirror_mode": {
        "name": "ipython",
        "version": 3
      },
      "file_extension": ".py",
      "mimetype": "text/x-python",
      "name": "python",
      "nbconvert_exporter": "python",
      "pygments_lexer": "ipython3",
      "version": "3.6.0"
    },
    "colab": {
      "provenance": [],
      "include_colab_link": true
    },
    "widgets": {
      "application/vnd.jupyter.widget-state+json": {
        "85c3f901052f4a438f013e1fafd0ae20": {
          "model_module": "@jupyter-widgets/controls",
          "model_name": "VBoxModel",
          "model_module_version": "1.5.0",
          "state": {
            "_dom_classes": [
              "widget-interact"
            ],
            "_model_module": "@jupyter-widgets/controls",
            "_model_module_version": "1.5.0",
            "_model_name": "VBoxModel",
            "_view_count": null,
            "_view_module": "@jupyter-widgets/controls",
            "_view_module_version": "1.5.0",
            "_view_name": "VBoxView",
            "box_style": "",
            "children": [
              "IPY_MODEL_e7fdf3bd8337422ea8fbd3eb47980b82",
              "IPY_MODEL_366086d0c94f49d391bbe0afb8351bac",
              "IPY_MODEL_421ec10c99624958aafa197312917758"
            ],
            "layout": "IPY_MODEL_bb8158e791f344bf9d26128fa7b34d25"
          }
        },
        "e7fdf3bd8337422ea8fbd3eb47980b82": {
          "model_module": "@jupyter-widgets/controls",
          "model_name": "IntSliderModel",
          "model_module_version": "1.5.0",
          "state": {
            "_dom_classes": [],
            "_model_module": "@jupyter-widgets/controls",
            "_model_module_version": "1.5.0",
            "_model_name": "IntSliderModel",
            "_view_count": null,
            "_view_module": "@jupyter-widgets/controls",
            "_view_module_version": "1.5.0",
            "_view_name": "IntSliderView",
            "continuous_update": true,
            "description": "azim",
            "description_tooltip": null,
            "disabled": false,
            "layout": "IPY_MODEL_1aab86f0898e4fb9b9c28966748a406d",
            "max": 90,
            "min": 0,
            "orientation": "horizontal",
            "readout": true,
            "readout_format": "d",
            "step": 1,
            "style": "IPY_MODEL_eabff1bebe294c98b89553e27280ce36",
            "value": 45
          }
        },
        "366086d0c94f49d391bbe0afb8351bac": {
          "model_module": "@jupyter-widgets/controls",
          "model_name": "IntSliderModel",
          "model_module_version": "1.5.0",
          "state": {
            "_dom_classes": [],
            "_model_module": "@jupyter-widgets/controls",
            "_model_module_version": "1.5.0",
            "_model_name": "IntSliderModel",
            "_view_count": null,
            "_view_module": "@jupyter-widgets/controls",
            "_view_module_version": "1.5.0",
            "_view_name": "IntSliderView",
            "continuous_update": true,
            "description": "elev",
            "description_tooltip": null,
            "disabled": false,
            "layout": "IPY_MODEL_0513e3e9fa154af39e0bbba1e86305dc",
            "max": 90,
            "min": 0,
            "orientation": "horizontal",
            "readout": true,
            "readout_format": "d",
            "step": 1,
            "style": "IPY_MODEL_f0ec1a70dc5b4d2a875ef956ae6b27dc",
            "value": 45
          }
        },
        "421ec10c99624958aafa197312917758": {
          "model_module": "@jupyter-widgets/output",
          "model_name": "OutputModel",
          "model_module_version": "1.0.0",
          "state": {
            "_dom_classes": [],
            "_model_module": "@jupyter-widgets/output",
            "_model_module_version": "1.0.0",
            "_model_name": "OutputModel",
            "_view_count": null,
            "_view_module": "@jupyter-widgets/output",
            "_view_module_version": "1.0.0",
            "_view_name": "OutputView",
            "layout": "IPY_MODEL_67622fae0ed540229ea8019ae449d3a8",
            "msg_id": "",
            "outputs": []
          }
        },
        "bb8158e791f344bf9d26128fa7b34d25": {
          "model_module": "@jupyter-widgets/base",
          "model_name": "LayoutModel",
          "model_module_version": "1.2.0",
          "state": {
            "_model_module": "@jupyter-widgets/base",
            "_model_module_version": "1.2.0",
            "_model_name": "LayoutModel",
            "_view_count": null,
            "_view_module": "@jupyter-widgets/base",
            "_view_module_version": "1.2.0",
            "_view_name": "LayoutView",
            "align_content": null,
            "align_items": null,
            "align_self": null,
            "border": null,
            "bottom": null,
            "display": null,
            "flex": null,
            "flex_flow": null,
            "grid_area": null,
            "grid_auto_columns": null,
            "grid_auto_flow": null,
            "grid_auto_rows": null,
            "grid_column": null,
            "grid_gap": null,
            "grid_row": null,
            "grid_template_areas": null,
            "grid_template_columns": null,
            "grid_template_rows": null,
            "height": null,
            "justify_content": null,
            "justify_items": null,
            "left": null,
            "margin": null,
            "max_height": null,
            "max_width": null,
            "min_height": null,
            "min_width": null,
            "object_fit": null,
            "object_position": null,
            "order": null,
            "overflow": null,
            "overflow_x": null,
            "overflow_y": null,
            "padding": null,
            "right": null,
            "top": null,
            "visibility": null,
            "width": null
          }
        },
        "1aab86f0898e4fb9b9c28966748a406d": {
          "model_module": "@jupyter-widgets/base",
          "model_name": "LayoutModel",
          "model_module_version": "1.2.0",
          "state": {
            "_model_module": "@jupyter-widgets/base",
            "_model_module_version": "1.2.0",
            "_model_name": "LayoutModel",
            "_view_count": null,
            "_view_module": "@jupyter-widgets/base",
            "_view_module_version": "1.2.0",
            "_view_name": "LayoutView",
            "align_content": null,
            "align_items": null,
            "align_self": null,
            "border": null,
            "bottom": null,
            "display": null,
            "flex": null,
            "flex_flow": null,
            "grid_area": null,
            "grid_auto_columns": null,
            "grid_auto_flow": null,
            "grid_auto_rows": null,
            "grid_column": null,
            "grid_gap": null,
            "grid_row": null,
            "grid_template_areas": null,
            "grid_template_columns": null,
            "grid_template_rows": null,
            "height": null,
            "justify_content": null,
            "justify_items": null,
            "left": null,
            "margin": null,
            "max_height": null,
            "max_width": null,
            "min_height": null,
            "min_width": null,
            "object_fit": null,
            "object_position": null,
            "order": null,
            "overflow": null,
            "overflow_x": null,
            "overflow_y": null,
            "padding": null,
            "right": null,
            "top": null,
            "visibility": null,
            "width": null
          }
        },
        "eabff1bebe294c98b89553e27280ce36": {
          "model_module": "@jupyter-widgets/controls",
          "model_name": "SliderStyleModel",
          "model_module_version": "1.5.0",
          "state": {
            "_model_module": "@jupyter-widgets/controls",
            "_model_module_version": "1.5.0",
            "_model_name": "SliderStyleModel",
            "_view_count": null,
            "_view_module": "@jupyter-widgets/base",
            "_view_module_version": "1.2.0",
            "_view_name": "StyleView",
            "description_width": "",
            "handle_color": null
          }
        },
        "0513e3e9fa154af39e0bbba1e86305dc": {
          "model_module": "@jupyter-widgets/base",
          "model_name": "LayoutModel",
          "model_module_version": "1.2.0",
          "state": {
            "_model_module": "@jupyter-widgets/base",
            "_model_module_version": "1.2.0",
            "_model_name": "LayoutModel",
            "_view_count": null,
            "_view_module": "@jupyter-widgets/base",
            "_view_module_version": "1.2.0",
            "_view_name": "LayoutView",
            "align_content": null,
            "align_items": null,
            "align_self": null,
            "border": null,
            "bottom": null,
            "display": null,
            "flex": null,
            "flex_flow": null,
            "grid_area": null,
            "grid_auto_columns": null,
            "grid_auto_flow": null,
            "grid_auto_rows": null,
            "grid_column": null,
            "grid_gap": null,
            "grid_row": null,
            "grid_template_areas": null,
            "grid_template_columns": null,
            "grid_template_rows": null,
            "height": null,
            "justify_content": null,
            "justify_items": null,
            "left": null,
            "margin": null,
            "max_height": null,
            "max_width": null,
            "min_height": null,
            "min_width": null,
            "object_fit": null,
            "object_position": null,
            "order": null,
            "overflow": null,
            "overflow_x": null,
            "overflow_y": null,
            "padding": null,
            "right": null,
            "top": null,
            "visibility": null,
            "width": null
          }
        },
        "f0ec1a70dc5b4d2a875ef956ae6b27dc": {
          "model_module": "@jupyter-widgets/controls",
          "model_name": "SliderStyleModel",
          "model_module_version": "1.5.0",
          "state": {
            "_model_module": "@jupyter-widgets/controls",
            "_model_module_version": "1.5.0",
            "_model_name": "SliderStyleModel",
            "_view_count": null,
            "_view_module": "@jupyter-widgets/base",
            "_view_module_version": "1.2.0",
            "_view_name": "StyleView",
            "description_width": "",
            "handle_color": null
          }
        },
        "67622fae0ed540229ea8019ae449d3a8": {
          "model_module": "@jupyter-widgets/base",
          "model_name": "LayoutModel",
          "model_module_version": "1.2.0",
          "state": {
            "_model_module": "@jupyter-widgets/base",
            "_model_module_version": "1.2.0",
            "_model_name": "LayoutModel",
            "_view_count": null,
            "_view_module": "@jupyter-widgets/base",
            "_view_module_version": "1.2.0",
            "_view_name": "LayoutView",
            "align_content": null,
            "align_items": null,
            "align_self": null,
            "border": null,
            "bottom": null,
            "display": null,
            "flex": null,
            "flex_flow": null,
            "grid_area": null,
            "grid_auto_columns": null,
            "grid_auto_flow": null,
            "grid_auto_rows": null,
            "grid_column": null,
            "grid_gap": null,
            "grid_row": null,
            "grid_template_areas": null,
            "grid_template_columns": null,
            "grid_template_rows": null,
            "height": null,
            "justify_content": null,
            "justify_items": null,
            "left": null,
            "margin": null,
            "max_height": null,
            "max_width": null,
            "min_height": null,
            "min_width": null,
            "object_fit": null,
            "object_position": null,
            "order": null,
            "overflow": null,
            "overflow_x": null,
            "overflow_y": null,
            "padding": null,
            "right": null,
            "top": null,
            "visibility": null,
            "width": null
          }
        }
      }
    }
  },
  "nbformat": 4,
  "nbformat_minor": 0
}